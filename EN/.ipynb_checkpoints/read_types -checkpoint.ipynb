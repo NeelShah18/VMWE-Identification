{
 "cells": [
  {
   "cell_type": "code",
   "execution_count": 1,
   "metadata": {
    "collapsed": true
   },
   "outputs": [],
   "source": [
    "# ######## goals:  \n",
    "# read each sentence \n",
    "# identify its MWE types (if any)\n",
    "# save each sentence along with its types "
   ]
  },
  {
   "cell_type": "code",
   "execution_count": 2,
   "metadata": {},
   "outputs": [],
   "source": [
    "def read_sents(filename):\n",
    "    # read text in IOB format \n",
    "    with open(filename, 'r') as f:\n",
    "        txt = f.read()    \n",
    "    # sentences are separated by empty newline \n",
    "    return txt.split(\"\\n\\n\")\n",
    "\n",
    "sents = read_sents('trainParsemeEN.txt')"
   ]
  },
  {
   "cell_type": "code",
   "execution_count": 3,
   "metadata": {},
   "outputs": [],
   "source": [
    "# given each sentence, extract its unique MWE types (empty set if none)\n",
    "def extract_types(sent):\n",
    "    types = set()\n",
    "    sent = sent.split('\\n')\n",
    "    for i in range(len(sent)):\n",
    "        mwe = ''\n",
    "        tokens = sent[i].split()\n",
    "        tag = tokens[-1]\n",
    "        if tag.startswith('B_'):\n",
    "            mwe_type = tag[2:]\n",
    "            mwe += tokens[1]\n",
    "\n",
    "            flag = True\n",
    "            j = 1\n",
    "            while flag: \n",
    "                tokens = sent[i+j].split()\n",
    "                if tokens[-1].startswith('B_'):\n",
    "                    types.add(mwe)\n",
    "                    flag = False\n",
    "                if tokens[-1] == 'I_'+mwe_type:\n",
    "                    mwe += (' ' + tokens[1])\n",
    "                    \n",
    "                if i+j == len(sent)-1:\n",
    "                    types.add(mwe)\n",
    "                    break\n",
    "                \n",
    "                j+= 1    \n",
    "                \n",
    "    return types "
   ]
  },
  {
   "cell_type": "code",
   "execution_count": 4,
   "metadata": {},
   "outputs": [],
   "source": [
    "sent_types = [extract_types(sent) for sent in sents if sent]"
   ]
  },
  {
   "cell_type": "code",
   "execution_count": 5,
   "metadata": {
    "collapsed": true
   },
   "outputs": [],
   "source": [
    "# from collections import Counter\n",
    "# sent_types_list = [tuple(i) for i in sent_types]\n",
    "# Counter(sent_types_list).most_common()"
   ]
  },
  {
   "cell_type": "code",
   "execution_count": 6,
   "metadata": {
    "scrolled": true
   },
   "outputs": [
    {
     "data": {
      "text/plain": [
       "3472"
      ]
     },
     "execution_count": 6,
     "metadata": {},
     "output_type": "execute_result"
    }
   ],
   "source": [
    "# there is a new line at the end of `sents`\n",
    "print(len(sents))\n",
    "print(len(sent_types)"
   ]
  },
  {
   "cell_type": "code",
   "execution_count": null,
   "metadata": {
    "collapsed": true
   },
   "outputs": [],
   "source": []
  }
 ],
 "metadata": {
  "kernelspec": {
   "display_name": "Python 3",
   "language": "python",
   "name": "python3"
  },
  "language_info": {
   "codemirror_mode": {
    "name": "ipython",
    "version": 3
   },
   "file_extension": ".py",
   "mimetype": "text/x-python",
   "name": "python",
   "nbconvert_exporter": "python",
   "pygments_lexer": "ipython3",
   "version": "3.6.3"
  }
 },
 "nbformat": 4,
 "nbformat_minor": 2
}
